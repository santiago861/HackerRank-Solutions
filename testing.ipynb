{
 "cells": [
  {
   "cell_type": "code",
   "execution_count": 8,
   "metadata": {},
   "outputs": [
    {
     "name": "stdout",
     "output_type": "stream",
     "text": [
      "1271\n"
     ]
    },
    {
     "data": {
      "text/plain": [
       "'10011110111'"
      ]
     },
     "execution_count": 8,
     "metadata": {},
     "output_type": "execute_result"
    }
   ],
   "source": [
    "binary = '10011110111'\n",
    "\n",
    "decimal = int(binary, 2)\n",
    "print(decimal)\n",
    "\n",
    "binary2 = bin(decimal)\n",
    "binary2[2:]"
   ]
  },
  {
   "cell_type": "code",
   "execution_count": 15,
   "metadata": {},
   "outputs": [
    {
     "name": "stdout",
     "output_type": "stream",
     "text": [
      "                   #\n",
      "                  ###\n",
      "                 #####\n",
      "                #######\n",
      "               #########\n",
      "              ###########\n",
      "             #############\n",
      "            ###############\n",
      "           #################\n",
      "          ###################\n",
      "         #####################\n",
      "        #######################\n",
      "       #########################\n",
      "      ###########################\n",
      "     #############################\n",
      "    ###############################\n",
      "   #################################\n",
      "  ###################################\n",
      " #####################################\n",
      "#######################################\n"
     ]
    }
   ],
   "source": [
    "altitude = 20\n",
    "count = 1\n",
    "\n",
    "for i in range(0, altitude):\n",
    "    print(((' ') * (altitude - count)) + ('#') * (count +  i))\n",
    "    count += 1\n"
   ]
  },
  {
   "cell_type": "code",
   "execution_count": 21,
   "metadata": {},
   "outputs": [
    {
     "name": "stdout",
     "output_type": "stream",
     "text": [
      "###################\n",
      " #################\n",
      "  ############### \n",
      "   #############  \n",
      "    ###########   \n",
      "     #########    \n",
      "      #######     \n",
      "       #####      \n",
      "        ###       \n",
      "         #        \n"
     ]
    }
   ],
   "source": [
    "altitude = 10\n",
    "count = 1\n",
    "lines = []\n",
    "\n",
    "inverted = True\n",
    "\n",
    "for i in range(0, altitude):\n",
    "\n",
    "    strLine = (' ') * (altitude - (i + 1)) + ('#') * (count + i) + (' ') * (altitude - (i + 2))\n",
    "    count += 1\n",
    "    lines.append(strLine)\n",
    "\n",
    "if inverted:\n",
    "    for i in range(len(lines) - 1, -1, -1):\n",
    "        print(lines[i])\n",
    "\n",
    "else:\n",
    "    for line in lines:\n",
    "        print(line)\n",
    "\n",
    "    "
   ]
  },
  {
   "cell_type": "code",
   "execution_count": 16,
   "metadata": {},
   "outputs": [
    {
     "data": {
      "text/plain": [
       "'YES'"
      ]
     },
     "execution_count": 16,
     "metadata": {},
     "output_type": "execute_result"
    }
   ],
   "source": [
    "a1 = [2,1,3]\n",
    "a2 = [7,8,9]\n",
    "k = 10\n",
    "\n",
    "\n",
    "def twoArrays(k, A, B):\n",
    "    A = sorted(A)\n",
    "    B = sorted(B)\n",
    "    B.reverse()\n",
    "    flag = True\n",
    "\n",
    "    for i in range(0, len(A)):\n",
    "        if A[i] + B[i] < k:\n",
    "            flag = False\n",
    "    \n",
    "    return 'YES' if flag else 'NO'\n",
    "\n",
    "twoArrays(k, a1, a2)"
   ]
  },
  {
   "cell_type": "code",
   "execution_count": 55,
   "metadata": {},
   "outputs": [
    {
     "name": "stdout",
     "output_type": "stream",
     "text": [
      "24\n",
      "23\n",
      "53\n",
      "121\n",
      "42\n",
      "52\n",
      "24\n"
     ]
    }
   ],
   "source": [
    "bhm = {}\n",
    "arr = [24, 24, 24, 23, 53, 121, 42, 52, 23, 23]\n",
    "\n",
    "for elem in arr:\n",
    "    if not elem in bhm:\n",
    "        bhm[elem] = 1\n",
    "    else:\n",
    "        bhm[elem] += 1\n",
    "\n",
    "result = list(bhm)[0]\n",
    "\n",
    "for elem in bhm:\n",
    "    # if bhm[elem] >= bhm[result] and elem < result:\n",
    "    #     result = elem\n",
    "    print(elem)\n",
    "\n",
    "print(result)\n",
    "\n",
    "# in this example, there are 2 elems with 3 as frecuency, in the problem migratory birds we want to return the most common element with the smallest id, in this case, return 24 not 23\n"
   ]
  },
  {
   "cell_type": "code",
   "execution_count": 56,
   "metadata": {},
   "outputs": [
    {
     "name": "stdout",
     "output_type": "stream",
     "text": [
      "dict_values([3, 3, 1, 1, 1, 1])\n"
     ]
    }
   ],
   "source": [
    "print(bhm.values())"
   ]
  }
 ],
 "metadata": {
  "kernelspec": {
   "display_name": "base",
   "language": "python",
   "name": "python3"
  },
  "language_info": {
   "codemirror_mode": {
    "name": "ipython",
    "version": 3
   },
   "file_extension": ".py",
   "mimetype": "text/x-python",
   "name": "python",
   "nbconvert_exporter": "python",
   "pygments_lexer": "ipython3",
   "version": "3.12.7"
  }
 },
 "nbformat": 4,
 "nbformat_minor": 2
}
